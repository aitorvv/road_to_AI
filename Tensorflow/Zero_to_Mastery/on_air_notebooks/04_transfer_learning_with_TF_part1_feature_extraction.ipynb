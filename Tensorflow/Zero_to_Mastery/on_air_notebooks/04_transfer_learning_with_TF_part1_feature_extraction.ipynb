{
  "nbformat": 4,
  "nbformat_minor": 0,
  "metadata": {
    "colab": {
      "provenance": [],
      "toc_visible": true,
      "authorship_tag": "ABX9TyObjqUDjqyWlI7hpgCgaLDG",
      "include_colab_link": true
    },
    "kernelspec": {
      "name": "python3",
      "display_name": "Python 3"
    },
    "language_info": {
      "name": "python"
    },
    "gpuClass": "standard"
  },
  "cells": [
    {
      "cell_type": "markdown",
      "metadata": {
        "id": "view-in-github",
        "colab_type": "text"
      },
      "source": [
        "<a href=\"https://colab.research.google.com/github/aitorvv/road_to_AI/blob/main/Tensorflow/Zero_to_Mastery/on_air_notebooks/04_transfer_learning_with_TF_part1_feature_extraction.ipynb\" target=\"_parent\"><img src=\"https://colab.research.google.com/assets/colab-badge.svg\" alt=\"Open In Colab\"/></a>"
      ]
    },
    {
      "cell_type": "markdown",
      "source": [
        "# Transfer learning with Tensorflow Part 1: Feature Extraction\n",
        "\n",
        "Two main benefits:\n",
        "- Can leverage an existing neural network architecture proven to work on problems similar to our own\n",
        "- Can leverage a working neural network architecture which has already learned patterns on similar data to our own, then we can adapt those patterns to our own data"
      ],
      "metadata": {
        "id": "5bo9Jk2rcDyF"
      }
    },
    {
      "cell_type": "code",
      "source": [
        "# Change runtime to GPU\n",
        "# Are we using a GPU?\n",
        "!nvidia-smi"
      ],
      "metadata": {
        "colab": {
          "base_uri": "https://localhost:8080/"
        },
        "id": "ZV8BOlL_fQDN",
        "outputId": "0b9a0b3a-7fbc-4e05-b2f5-24e90a18a3fb"
      },
      "execution_count": null,
      "outputs": [
        {
          "output_type": "stream",
          "name": "stdout",
          "text": [
            "Mon Mar 13 17:24:07 2023       \n",
            "+-----------------------------------------------------------------------------+\n",
            "| NVIDIA-SMI 525.85.12    Driver Version: 525.85.12    CUDA Version: 12.0     |\n",
            "|-------------------------------+----------------------+----------------------+\n",
            "| GPU  Name        Persistence-M| Bus-Id        Disp.A | Volatile Uncorr. ECC |\n",
            "| Fan  Temp  Perf  Pwr:Usage/Cap|         Memory-Usage | GPU-Util  Compute M. |\n",
            "|                               |                      |               MIG M. |\n",
            "|===============================+======================+======================|\n",
            "|   0  Tesla T4            Off  | 00000000:00:04.0 Off |                    0 |\n",
            "| N/A   55C    P0    28W /  70W |      0MiB / 15360MiB |      0%      Default |\n",
            "|                               |                      |                  N/A |\n",
            "+-------------------------------+----------------------+----------------------+\n",
            "                                                                               \n",
            "+-----------------------------------------------------------------------------+\n",
            "| Processes:                                                                  |\n",
            "|  GPU   GI   CI        PID   Type   Process name                  GPU Memory |\n",
            "|        ID   ID                                                   Usage      |\n",
            "|=============================================================================|\n",
            "|  No running processes found                                                 |\n",
            "+-----------------------------------------------------------------------------+\n"
          ]
        }
      ]
    },
    {
      "cell_type": "markdown",
      "source": [
        "## Downloading and becoming one with data"
      ],
      "metadata": {
        "id": "2Q4uu52Pfq3m"
      }
    },
    {
      "cell_type": "code",
      "source": [
        "# Get data (10% of 10 food clases from Food101)\n",
        "import zipfile\n",
        "\n",
        "# Download the data\n",
        "!wget https://storage.googleapis.com/ztm_tf_course/food_vision/10_food_classes_10_percent.zip\n",
        "\n",
        "# Unzip the downloaded file\n",
        "zip_ref = zipfile.ZipFile('10_food_classes_10_percent.zip')\n",
        "zip_ref.extractall()\n",
        "zip_ref.close()"
      ],
      "metadata": {
        "colab": {
          "base_uri": "https://localhost:8080/"
        },
        "id": "97kGAkjzf14I",
        "outputId": "6a6117e8-0b2b-4dee-a5d9-dfcdab3c7272"
      },
      "execution_count": null,
      "outputs": [
        {
          "output_type": "stream",
          "name": "stdout",
          "text": [
            "--2023-03-13 17:24:07--  https://storage.googleapis.com/ztm_tf_course/food_vision/10_food_classes_10_percent.zip\n",
            "Resolving storage.googleapis.com (storage.googleapis.com)... 172.217.214.128, 172.253.114.128, 172.253.119.128, ...\n",
            "Connecting to storage.googleapis.com (storage.googleapis.com)|172.217.214.128|:443... connected.\n",
            "HTTP request sent, awaiting response... 200 OK\n",
            "Length: 168546183 (161M) [application/zip]\n",
            "Saving to: ‘10_food_classes_10_percent.zip’\n",
            "\n",
            "10_food_classes_10_ 100%[===================>] 160.74M   124MB/s    in 1.3s    \n",
            "\n",
            "2023-03-13 17:24:09 (124 MB/s) - ‘10_food_classes_10_percent.zip’ saved [168546183/168546183]\n",
            "\n"
          ]
        }
      ]
    },
    {
      "cell_type": "code",
      "source": [
        "# How many images in each folder?\n",
        "import os\n",
        "\n",
        "# Walk through 10 % data directory and list number of files\n",
        "for dirpath, dirnames, filenames in os.walk('10_food_classes_10_percent'):\n",
        "  print(f'There are {len(dirnames)} directories and {len(filenames)} images in \"{dirpath}\".')"
      ],
      "metadata": {
        "colab": {
          "base_uri": "https://localhost:8080/"
        },
        "id": "SjGeYK5MgYpm",
        "outputId": "8314bd89-f1c0-4b54-a664-06c0a7fbafc1"
      },
      "execution_count": null,
      "outputs": [
        {
          "output_type": "stream",
          "name": "stdout",
          "text": [
            "There are 2 directories and 0 images in \"10_food_classes_10_percent\".\n",
            "There are 10 directories and 0 images in \"10_food_classes_10_percent/test\".\n",
            "There are 0 directories and 250 images in \"10_food_classes_10_percent/test/ice_cream\".\n",
            "There are 0 directories and 250 images in \"10_food_classes_10_percent/test/ramen\".\n",
            "There are 0 directories and 250 images in \"10_food_classes_10_percent/test/pizza\".\n",
            "There are 0 directories and 250 images in \"10_food_classes_10_percent/test/chicken_curry\".\n",
            "There are 0 directories and 250 images in \"10_food_classes_10_percent/test/chicken_wings\".\n",
            "There are 0 directories and 250 images in \"10_food_classes_10_percent/test/fried_rice\".\n",
            "There are 0 directories and 250 images in \"10_food_classes_10_percent/test/hamburger\".\n",
            "There are 0 directories and 250 images in \"10_food_classes_10_percent/test/grilled_salmon\".\n",
            "There are 0 directories and 250 images in \"10_food_classes_10_percent/test/sushi\".\n",
            "There are 0 directories and 250 images in \"10_food_classes_10_percent/test/steak\".\n",
            "There are 10 directories and 0 images in \"10_food_classes_10_percent/train\".\n",
            "There are 0 directories and 75 images in \"10_food_classes_10_percent/train/ice_cream\".\n",
            "There are 0 directories and 75 images in \"10_food_classes_10_percent/train/ramen\".\n",
            "There are 0 directories and 75 images in \"10_food_classes_10_percent/train/pizza\".\n",
            "There are 0 directories and 75 images in \"10_food_classes_10_percent/train/chicken_curry\".\n",
            "There are 0 directories and 75 images in \"10_food_classes_10_percent/train/chicken_wings\".\n",
            "There are 0 directories and 75 images in \"10_food_classes_10_percent/train/fried_rice\".\n",
            "There are 0 directories and 75 images in \"10_food_classes_10_percent/train/hamburger\".\n",
            "There are 0 directories and 75 images in \"10_food_classes_10_percent/train/grilled_salmon\".\n",
            "There are 0 directories and 75 images in \"10_food_classes_10_percent/train/sushi\".\n",
            "There are 0 directories and 75 images in \"10_food_classes_10_percent/train/steak\".\n"
          ]
        }
      ]
    },
    {
      "cell_type": "markdown",
      "source": [
        "## Creating data loaders (preparing the data)\n",
        "\n",
        "We'll use the 'ImageDataGenerator' class to load in our images in batches"
      ],
      "metadata": {
        "id": "nHCNVZ57hKYl"
      }
    },
    {
      "cell_type": "code",
      "source": [
        "# Setup data inputs\n",
        "from tensorflow.keras.preprocessing.image import ImageDataGenerator\n",
        "\n",
        "# Capitals are HYPERPARAMETERS\n",
        "IMAGE_SHAPE = (224, 224)\n",
        "BATCH_SIZE = 32\n",
        "\n",
        "train_dir = '10_food_classes_10_percent/train/'\n",
        "test_dir = '10_food_classes_10_percent/test/'\n",
        "\n",
        "train_datagen = ImageDataGenerator(rescale=1/255.)\n",
        "test_datagen = ImageDataGenerator(rescale=1/255.)\n",
        "\n",
        "print('Training images:')\n",
        "train_data_10_percent = train_datagen.flow_from_directory(train_dir, \n",
        "                                                          target_size = IMAGE_SHAPE,\n",
        "                                                          batch_size = BATCH_SIZE,\n",
        "                                                          class_mode='categorical')\n",
        "\n",
        "print('Testing images:')\n",
        "test_data = test_datagen.flow_from_directory(test_dir,\n",
        "                                             target_size = IMAGE_SHAPE,\n",
        "                                             batch_size = BATCH_SIZE,\n",
        "                                             class_mode='categorical')\n"
      ],
      "metadata": {
        "colab": {
          "base_uri": "https://localhost:8080/"
        },
        "id": "1okxqk3rhT6u",
        "outputId": "a6734749-0aa7-42a1-f462-1e6234465fb9"
      },
      "execution_count": null,
      "outputs": [
        {
          "output_type": "stream",
          "name": "stdout",
          "text": [
            "Training images:\n",
            "Found 750 images belonging to 10 classes.\n",
            "Testing images:\n",
            "Found 2500 images belonging to 10 classes.\n"
          ]
        }
      ]
    },
    {
      "cell_type": "markdown",
      "source": [
        "## Setting up callbacks (things to run whilst our model trains)\n",
        "\n",
        "Callbacks are extra functionality you can add to your models to be performed during or after training. Some of the most popular callbacks:\n",
        "- Tracking experiments with the TensorBoard callback\n",
        "- Model checkpoint with the ModelCheckpoint callback\n",
        "- Stopping a model from training (before it trains too long and overfits) with the EarlyStopping callback"
      ],
      "metadata": {
        "id": "sh0MOJ9ciRo4"
      }
    },
    {
      "cell_type": "code",
      "source": [
        "# Create TensorBoard callback (functionized because we need to create a new one for each model)\n",
        "import datetime\n",
        "\n",
        "def create_tensorboard_callback(dir_name, experiment_name):\n",
        "  log_dir = dir_name + '/' + experiment_name + '/' + datetime.datetime.now().strftime('%Y%m%d-%H%M%S')\n",
        "  tensorboard_callback = tf.keras.callbacks.TensorBoard(log_dir=log_dir)\n",
        "  print(f'Saving TensorBoard log file to: {log_dir}')\n",
        "  return tensorboard_callback"
      ],
      "metadata": {
        "id": "6vfj0DlRjV4g"
      },
      "execution_count": null,
      "outputs": []
    },
    {
      "cell_type": "markdown",
      "source": [
        "## Creating models using TensorFlow Hub\n",
        "\n",
        "Models: \n",
        "- https://tfhub.dev/google/efficientnet/b0/feature-vector/1\n",
        "- https://tfhub.dev/google/imagenet/resnet_v2_50/feature_vector/5"
      ],
      "metadata": {
        "id": "ziYUmg69kxPK"
      }
    },
    {
      "cell_type": "code",
      "source": [
        "# Let's compare the following 2 models\n",
        "resnet_url = 'https://tfhub.dev/google/imagenet/resnet_v2_50/feature_vector/5'\n",
        "efficientnet_url = 'https://tfhub.dev/google/efficientnet/b0/feature-vector/1'"
      ],
      "metadata": {
        "id": "DN8CGxeQk8mN"
      },
      "execution_count": null,
      "outputs": []
    },
    {
      "cell_type": "code",
      "source": [
        "# Import dependencies\n",
        "import tensorflow as tf\n",
        "import tensorflow_hub as hub\n",
        "from tensorflow.keras import layers"
      ],
      "metadata": {
        "id": "EXaPedX7nxVP"
      },
      "execution_count": null,
      "outputs": []
    },
    {
      "cell_type": "code",
      "source": [
        "# Let's make a create_model() function to create a model from a URL\n",
        "def create_model(model_url, num_classes=10):\n",
        "  \"\"\"\n",
        "  Takes a TensorFlow Hub URL and creates a Keras Sequential model with it.\n",
        "\n",
        "  Args:\n",
        "    model_url (str): A TensorFlow Hub feature extraction URL\n",
        "    num_classes (int): Number of output neurons in the output layer,\n",
        "      should be equal to number of target classes, default 10.\n",
        "\n",
        "  Returns:\n",
        "    An uncompiled Keras Sequential model with model_url as feature extractor\n",
        "    layer and Dense output layer with num_classes output neurons.\n",
        "  \"\"\"\n",
        "  # Download the pretrained model and save it as a Keras layer\n",
        "  feature_extractor_layer = hub.KerasLayer(model_url,\n",
        "                                           trainable=False,\n",
        "                                           name='feature_extraction_layer',\n",
        "                                           input_shape=IMAGE_SHAPE+(3,)) # freeze the already learned patterns\n",
        "\n",
        "  # Create our own model\n",
        "  model = tf.keras.Sequential([\n",
        "      feature_extractor_layer,\n",
        "      layers.Dense(num_classes, activation='softmax', name='output_layer')\n",
        "  ])\n",
        "\n",
        "  return model                                     \n"
      ],
      "metadata": {
        "id": "Cy8HzoPRoL8q"
      },
      "execution_count": null,
      "outputs": []
    },
    {
      "cell_type": "markdown",
      "source": [
        "### Creating and testing Resnet model"
      ],
      "metadata": {
        "id": "HjBMFjWKppC5"
      }
    },
    {
      "cell_type": "code",
      "source": [
        "# Create Resnet model\n",
        "resnet_model = create_model(resnet_url, \n",
        "                            num_classes=train_data_10_percent.num_classes)"
      ],
      "metadata": {
        "colab": {
          "base_uri": "https://localhost:8080/"
        },
        "id": "Hm0Pzd04pmRZ",
        "outputId": "3b6a5459-86ac-4ec6-8dce-825a45321d58"
      },
      "execution_count": null,
      "outputs": [
        {
          "output_type": "stream",
          "name": "stderr",
          "text": [
            "WARNING:tensorflow:Please fix your imports. Module tensorflow.python.training.tracking.data_structures has been moved to tensorflow.python.trackable.data_structures. The old module will be deleted in version 2.11.\n",
            "WARNING:tensorflow:From /usr/local/lib/python3.9/dist-packages/tensorflow/python/autograph/pyct/static_analysis/liveness.py:83: Analyzer.lamba_check (from tensorflow.python.autograph.pyct.static_analysis.liveness) is deprecated and will be removed after 2023-09-23.\n",
            "Instructions for updating:\n",
            "Lambda fuctions will be no more assumed to be used in the statement where they are used, or at least in the same block. https://github.com/tensorflow/tensorflow/issues/56089\n"
          ]
        }
      ]
    },
    {
      "cell_type": "code",
      "source": [
        "# Compile our resnet model\n",
        "resnet_model.compile(\n",
        "    loss='categorical_crossentropy',\n",
        "    optimizer=tf.keras.optimizers.Adam(),\n",
        "    metrics=['accuracy']\n",
        ")\n",
        "\n",
        "# Fit the model\n",
        "resnet_history = resnet_model.fit(train_data_10_percent,\n",
        "                                  epochs=5,\n",
        "                                  steps_per_epoch=len(train_data_10_percent),\n",
        "                                  validation_data=test_data,\n",
        "                                  callbacks=[create_tensorboard_callback(dir_name='tensorflow_hub',\n",
        "                                                                         experiment_name='resnet_v2_50')])"
      ],
      "metadata": {
        "colab": {
          "base_uri": "https://localhost:8080/"
        },
        "id": "heNuAffAqG5a",
        "outputId": "23c322c8-3714-463d-bb66-cdc4564b473f"
      },
      "execution_count": null,
      "outputs": [
        {
          "output_type": "stream",
          "name": "stdout",
          "text": [
            "Saving TensorBoard log file to: tensorflow_hub/resnet_v2_50/20230313-172434\n",
            "Epoch 1/5\n",
            "24/24 [==============================] - 48s 1s/step - loss: 1.9504 - accuracy: 0.3613 - val_loss: 1.2025 - val_accuracy: 0.6372\n",
            "Epoch 2/5\n",
            "24/24 [==============================] - 25s 1s/step - loss: 0.8986 - accuracy: 0.7307 - val_loss: 0.8436 - val_accuracy: 0.7316\n",
            "Epoch 3/5\n",
            "24/24 [==============================] - 48s 2s/step - loss: 0.6350 - accuracy: 0.8267 - val_loss: 0.7487 - val_accuracy: 0.7608\n",
            "Epoch 4/5\n",
            "24/24 [==============================] - 21s 917ms/step - loss: 0.4771 - accuracy: 0.8893 - val_loss: 0.7169 - val_accuracy: 0.7556\n",
            "Epoch 5/5\n",
            "24/24 [==============================] - 19s 816ms/step - loss: 0.3896 - accuracy: 0.9093 - val_loss: 0.6806 - val_accuracy: 0.7712\n"
          ]
        }
      ]
    },
    {
      "cell_type": "code",
      "source": [
        "# Let's create a function to plot loss curves\n",
        "import matplotlib.pyplot as plt\n",
        "\n",
        "# Plot the validation and training curves\n",
        "def plot_loss_curves(history):\n",
        "  \"\"\" \n",
        "  Returns separate loss curves for training and validation metrics.\n",
        "\n",
        "  Args:\n",
        "    history: TensorFlow History object.\n",
        "\n",
        "  Returns:\n",
        "    Plots of training/validation loss and accuracy metrics.\n",
        "  \"\"\"\n",
        "\n",
        "  loss = history.history['loss']\n",
        "  val_loss = history.history['val_loss']\n",
        "\n",
        "  accuracy = history.history['accuracy']\n",
        "  val_accuracy = history.history['val_accuracy']\n",
        "\n",
        "  epochs = range(len(history.history['loss']))\n",
        "\n",
        "  # Plot loss\n",
        "  plt.plot(epochs, loss, label='training_loss')\n",
        "  plt.plot(epochs, val_loss, label='val_loss')\n",
        "  plt.title('Loss')\n",
        "  plt.xlabel('Epochs')\n",
        "  plt.legend()\n",
        "\n",
        "  # Plot accuracy\n",
        "  plt.figure()\n",
        "  plt.plot(epochs, accuracy, label='training_accuracy')\n",
        "  plt.plot(epochs, val_accuracy, label='val_accuracy')\n",
        "  plt.title('Accuracy')\n",
        "  plt.xlabel('Epochs')\n",
        "  plt.legend()"
      ],
      "metadata": {
        "id": "RhULh2CosSng"
      },
      "execution_count": null,
      "outputs": []
    },
    {
      "cell_type": "code",
      "source": [
        "plot_loss_curves(resnet_history)"
      ],
      "metadata": {
        "colab": {
          "base_uri": "https://localhost:8080/",
          "height": 573
        },
        "id": "w_IQf2pAuTTz",
        "outputId": "33f24ae2-ec41-48e1-b6f2-91f85fb5fa3b"
      },
      "execution_count": null,
      "outputs": [
        {
          "output_type": "display_data",
          "data": {
            "text/plain": [
              "<Figure size 432x288 with 1 Axes>"
            ],
            "image/png": "[encoded data removed]"
          },
          "metadata": {
            "needs_background": "light"
          }
        },
        {
          "output_type": "display_data",
          "data": {
            "text/plain": [
              "<Figure size 432x288 with 1 Axes>"
            ],
            "image/png": "[encoded data removed]"
          },
          "metadata": {
            "needs_background": "light"
          }
        }
      ]
    },
    {
      "cell_type": "markdown",
      "source": [
        "### Creating and testing EfficientNet model"
      ],
      "metadata": {
        "id": "GprH1XyauzK0"
      }
    },
    {
      "cell_type": "code",
      "source": [
        "# Create EfficientNet model\n",
        "effnet_model = create_model(model_url=efficientnet_url,\n",
        "                      num_classes=train_data_10_percent.num_classes)"
      ],
      "metadata": {
        "id": "9fAUgAID_rvH"
      },
      "execution_count": null,
      "outputs": []
    },
    {
      "cell_type": "code",
      "source": [
        "# Compile the model\n",
        "effnet_model.compile(\n",
        "    loss='categorical_crossentropy',\n",
        "    optimizer=tf.keras.optimizers.Adam(),\n",
        "    metrics=['accuracy']\n",
        ")\n",
        "\n",
        "# Fit EfficientNet model to 10% of training data\n",
        "effnet_history = effnet_model.fit(train_data_10_percent,\n",
        "                                  epochs=5,\n",
        "                                  steps_per_epoch=len(train_data_10_percent),\n",
        "                                  validation_data=test_data,\n",
        "                                  validation_steps=len(test_data),\n",
        "                                  callbacks=[create_tensorboard_callback(dir_name='tensorflow_hub',\n",
        "                                                                         experiment_name='effnet')])"
      ],
      "metadata": {
        "colab": {
          "base_uri": "https://localhost:8080/"
        },
        "id": "pXJ97qwmu2I9",
        "outputId": "92c8abd2-1e69-4cce-869f-d6214f763e62"
      },
      "execution_count": null,
      "outputs": [
        {
          "output_type": "stream",
          "name": "stdout",
          "text": [
            "Saving TensorBoard log file to: tensorflow_hub/effnet/20230313-172846\n",
            "Epoch 1/5\n",
            "24/24 [==============================] - 31s 1s/step - loss: 1.8533 - accuracy: 0.4333 - val_loss: 1.2886 - val_accuracy: 0.7432\n",
            "Epoch 2/5\n",
            "24/24 [==============================] - 24s 1s/step - loss: 1.0518 - accuracy: 0.7893 - val_loss: 0.8546 - val_accuracy: 0.8300\n",
            "Epoch 3/5\n",
            "24/24 [==============================] - 18s 784ms/step - loss: 0.7465 - accuracy: 0.8320 - val_loss: 0.6860 - val_accuracy: 0.8512\n",
            "Epoch 4/5\n",
            "24/24 [==============================] - 45s 2s/step - loss: 0.6011 - accuracy: 0.8560 - val_loss: 0.6007 - val_accuracy: 0.8556\n",
            "Epoch 5/5\n",
            "24/24 [==============================] - 24s 1s/step - loss: 0.5082 - accuracy: 0.8933 - val_loss: 0.5490 - val_accuracy: 0.8624\n"
          ]
        }
      ]
    },
    {
      "cell_type": "code",
      "source": [
        "plot_loss_curves(effnet_history)"
      ],
      "metadata": {
        "colab": {
          "base_uri": "https://localhost:8080/",
          "height": 573
        },
        "id": "VGA52D3_BcNv",
        "outputId": "211541b3-7642-4d30-8be8-c65b4e4cadaf"
      },
      "execution_count": null,
      "outputs": [
        {
          "output_type": "display_data",
          "data": {
            "text/plain": [
              "<Figure size 432x288 with 1 Axes>"
            ],
            "image/png": "[encoded data removed]"
          },
          "metadata": {
            "needs_background": "light"
          }
        },
        {
          "output_type": "display_data",
          "data": {
            "text/plain": [
              "<Figure size 432x288 with 1 Axes>"
            ],
            "image/png": "[encoded data removed]"
          },
          "metadata": {
            "needs_background": "light"
          }
        }
      ]
    },
    {
      "cell_type": "code",
      "source": [
        "effnet_model.summary()"
      ],
      "metadata": {
        "colab": {
          "base_uri": "https://localhost:8080/"
        },
        "id": "HAdDtYkFB7ko",
        "outputId": "2b5360a0-6f81-47fb-da1e-924386f76449"
      },
      "execution_count": null,
      "outputs": [
        {
          "output_type": "stream",
          "name": "stdout",
          "text": [
            "Model: \"sequential_2\"\n",
            "_________________________________________________________________\n",
            " Layer (type)                Output Shape              Param #   \n",
            "=================================================================\n",
            " feature_extraction_layer (K  (None, 1280)             4049564   \n",
            " erasLayer)                                                      \n",
            "                                                                 \n",
            " output_layer (Dense)        (None, 10)                12810     \n",
            "                                                                 \n",
            "=================================================================\n",
            "Total params: 4,062,374\n",
            "Trainable params: 12,810\n",
            "Non-trainable params: 4,049,564\n",
            "_________________________________________________________________\n"
          ]
        }
      ]
    },
    {
      "cell_type": "code",
      "source": [
        "resnet_model.summary()"
      ],
      "metadata": {
        "colab": {
          "base_uri": "https://localhost:8080/"
        },
        "id": "Zn4qtzAICFBI",
        "outputId": "c7ff797d-926b-43a0-d39f-1d15a06b33f7"
      },
      "execution_count": null,
      "outputs": [
        {
          "output_type": "stream",
          "name": "stdout",
          "text": [
            "Model: \"sequential\"\n",
            "_________________________________________________________________\n",
            " Layer (type)                Output Shape              Param #   \n",
            "=================================================================\n",
            " feature_extraction_layer (K  (None, 2048)             23564800  \n",
            " erasLayer)                                                      \n",
            "                                                                 \n",
            " output_layer (Dense)        (None, 10)                20490     \n",
            "                                                                 \n",
            "=================================================================\n",
            "Total params: 23,585,290\n",
            "Trainable params: 20,490\n",
            "Non-trainable params: 23,564,800\n",
            "_________________________________________________________________\n"
          ]
        }
      ]
    },
    {
      "cell_type": "markdown",
      "source": [
        "## Different types of transfer learning\n",
        "\n",
        "- **As is** transfer learning - using an existing model with no changes what so ever (e.g using ImageNet model on 1000 ImageNet classes, none of your own)\n",
        "- **Feature extraction** transfer learning - use the prelearned patterns of an existing model (e.g EfficientNetb0 trained on ImageNet) and adjust the output layer for your own problem (e.g. 1000 classes -> 10 classes of food)\n",
        "- **Fine-tuning** transfer learning - use the prelearned patterns of an existing model and 'fine-tune' many or all of the underlying layers (including new output layers)"
      ],
      "metadata": {
        "id": "vGn2xTlBCQDx"
      }
    },
    {
      "cell_type": "markdown",
      "source": [
        "## Comparing our model results using TensorBoard\n",
        "\n",
        "When you upload things to TensorBoard.dev, your experiments are public"
      ],
      "metadata": {
        "id": "R2pwhvZxC35Y"
      }
    },
    {
      "cell_type": "code",
      "source": [
        "# upload TensorBoard dev records\n",
        "!tensorboard dev upload --logdir ./tensorflow_hub/ \\\n",
        "  --name 'effnet vs resnet' \\\n",
        "  --description 'Comparing two different TF Hub feature extraction model architectures using just 10% of training data' \\\n",
        "  --one_shot"
      ],
      "metadata": {
        "id": "v-DxYjXUEkM5"
      },
      "execution_count": null,
      "outputs": []
    },
    {
      "cell_type": "markdown",
      "source": [
        "Published here: https://tensorboard.dev/experiment/pMj76lnMSdGl0YEsMZLjsg/#scalars"
      ],
      "metadata": {
        "id": "O7ZhE-FHGZU4"
      }
    },
    {
      "cell_type": "code",
      "source": [
        "# Check out what TensorBoard experiments you have\n",
        "!tensorboard dev list"
      ],
      "metadata": {
        "id": "wE_RYOpcG_JA"
      },
      "execution_count": null,
      "outputs": []
    },
    {
      "cell_type": "code",
      "source": [
        "# Delete an experiment\n",
        "!tensorboard dev delete --experiment_id "
      ],
      "metadata": {
        "id": "xb7bTzV8HMi7"
      },
      "execution_count": null,
      "outputs": []
    }
  ]
}